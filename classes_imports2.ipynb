{
 "cells": [
  {
   "cell_type": "code",
   "execution_count": null,
   "id": "02506201",
   "metadata": {},
   "outputs": [],
   "source": [
    "\n",
    "class User:\n",
    "    \n",
    "    def __init__(self, first_name, last_name, age, sex, weight, login_attempts):\n",
    "        self.first = first_name\n",
    "        self.last = last_name\n",
    "        self.age = age\n",
    "        self.sex = sex\n",
    "        self.weight = weight\n",
    "        self.log_attempts = login_attempts\n",
    "    \n",
    "    def describe_user(self):\n",
    "        print(f'first name: {self.first}')\n",
    "        print(f'last name: {self.last}')\n",
    "        print(f'age: {self.age}')\n",
    "        print(f'sex: {self.sex}')\n",
    "        print(f'weight: {self.weight}')\n",
    "    \n",
    "    def greet_user(self):\n",
    "        print(f'Hi {self.first} {self.last}, good to see you')\n",
    "        \n",
    "    def increment_login_attempts(self):\n",
    "        self.log_attempts +=1\n",
    "    \n",
    "    def reset_login_attempts(self):\n",
    "        self.log_attempts = 0\n",
    "\n"
   ]
  }
 ],
 "metadata": {
  "kernelspec": {
   "display_name": "\"Python/Mu (mu_venv-38-20220823-102647)\"",
   "language": "python",
   "name": "mu_venv-38-20220823-102647"
  },
  "language_info": {
   "codemirror_mode": {
    "name": "ipython",
    "version": 3
   },
   "file_extension": ".py",
   "mimetype": "text/x-python",
   "name": "python",
   "nbconvert_exporter": "python",
   "pygments_lexer": "ipython3",
   "version": "3.8.11"
  }
 },
 "nbformat": 4,
 "nbformat_minor": 5
}
