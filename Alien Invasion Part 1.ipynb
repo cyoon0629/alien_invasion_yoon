{
 "cells": [
  {
   "cell_type": "markdown",
   "id": "a27a3a83",
   "metadata": {},
   "source": [
    "<img src=\"https://www.usna.edu/WRC/_files/WRClogos/WRCE-logo-combined-01-crop.png\" width=\"200px\">\n",
    "\n",
    "# Alien Invasion (Chapter 12)\n",
    "\n",
    "Create a seperate file in your alien invasion game for each of the following questions. Paste the content of the file into a Jupyter Notebook cell along with a screen shot of the game (2 cells per answer)"
   ]
  },
  {
   "cell_type": "markdown",
   "id": "5dee5f06",
   "metadata": {},
   "source": [
    "**12-1. Blue Sky:** Make a Pygame window with a blue background"
   ]
  },
  {
   "cell_type": "code",
   "execution_count": 1,
   "id": "7d5bc785",
   "metadata": {},
   "outputs": [
    {
     "ename": "NameError",
     "evalue": "name 'Actor' is not defined",
     "output_type": "error",
     "traceback": [
      "\u001b[1;31m---------------------------------------------------------------------------\u001b[0m",
      "\u001b[1;31mNameError\u001b[0m                                 Traceback (most recent call last)",
      "Input \u001b[1;32mIn [1]\u001b[0m, in \u001b[0;36m<cell line: 3>\u001b[1;34m()\u001b[0m\n\u001b[0;32m      1\u001b[0m \u001b[38;5;66;03m# code\u001b[39;00m\n\u001b[1;32m----> 3\u001b[0m alien \u001b[38;5;241m=\u001b[39m \u001b[43mActor\u001b[49m(\u001b[38;5;124m'\u001b[39m\u001b[38;5;124malien\u001b[39m\u001b[38;5;124m'\u001b[39m)\n",
      "\u001b[1;31mNameError\u001b[0m: name 'Actor' is not defined"
     ]
    }
   ],
   "source": [
    "# code\n",
    "\n",
    "alien = Actor('alien')\n",
    "\n",
    "WIDTH = 300\n",
    "HEIGHT = 300\n",
    "\n",
    "def draw():\n",
    "    screen.clear()\n",
    "    screen.fill((0, 0, 128))"
   ]
  },
  {
   "attachments": {
    "image.png": {
     "image/png": "[encoded data removed]"
    }
   },
   "cell_type": "markdown",
   "id": "978fa980",
   "metadata": {},
   "source": [
    "screen shot\n",
    "\n",
    "![image.png](attachment:image.png)"
   ]
  },
  {
   "cell_type": "markdown",
   "id": "db53b5ed",
   "metadata": {},
   "source": [
    "**12-2. Game Character:** Find a bitmap image of a game character you like or convert an image to a bitmap. Make a class that draws the character at the center of the screen and match the background color of the image to the background color of the screen or vice versa"
   ]
  },
  {
   "cell_type": "code",
   "execution_count": 2,
   "id": "fc148f30",
   "metadata": {},
   "outputs": [],
   "source": [
    "# code\n",
    "\n"
   ]
  },
  {
   "cell_type": "markdown",
   "id": "66080441",
   "metadata": {},
   "source": [
    "screen shot"
   ]
  },
  {
   "cell_type": "markdown",
   "id": "3a13ae4d",
   "metadata": {},
   "source": [
    "**12-4. Rocket:** Make a game that begins with a rocket in the center of the screen. Allow the player to move the rocket up, down, left, or right using the four arrow keys. Make sure the rocket never moves beyond any edge of the screen."
   ]
  },
  {
   "cell_type": "code",
   "execution_count": 2,
   "id": "36da1ca2",
   "metadata": {},
   "outputs": [],
   "source": [
    "# code"
   ]
  },
  {
   "cell_type": "markdown",
   "id": "bf01631b",
   "metadata": {},
   "source": [
    "screen shot"
   ]
  },
  {
   "cell_type": "markdown",
   "id": "64f301bb",
   "metadata": {},
   "source": [
    "**12-5. Keys:** Make a Pygame file that creates an empty screen. In the event loop, print the `event.key` attribute whenever a `pygame.KEYDOWN` event is detected. Run the program and press various keys to see how Pygame responds. Your screen shot should be the text output from the Pycharm consolse (not the game screen)"
   ]
  },
  {
   "cell_type": "code",
   "execution_count": 2,
   "id": "96e4137b",
   "metadata": {},
   "outputs": [],
   "source": [
    "# code"
   ]
  },
  {
   "cell_type": "markdown",
   "id": "90cbe6c7",
   "metadata": {},
   "source": [
    "screen shot"
   ]
  },
  {
   "cell_type": "markdown",
   "id": "89f48e50",
   "metadata": {},
   "source": [
    "**12-6. Sideways Shooter:** Write a game that places a ship on the left side of the screen and allows the player to move the ship up and down. Make the ship fire a bullet that travels right across the screen when the player presses the spacebar. Make sure the bullets are deleted once they disappear off the screen"
   ]
  },
  {
   "cell_type": "code",
   "execution_count": 2,
   "id": "03770250",
   "metadata": {},
   "outputs": [],
   "source": [
    "# code"
   ]
  },
  {
   "cell_type": "markdown",
   "id": "23870754",
   "metadata": {},
   "source": [
    "screen shot"
   ]
  }
 ],
 "metadata": {
  "kernelspec": {
   "display_name": "Python 3 (ipykernel)",
   "language": "python",
   "name": "python3"
  },
  "language_info": {
   "codemirror_mode": {
    "name": "ipython",
    "version": 3
   },
   "file_extension": ".py",
   "mimetype": "text/x-python",
   "name": "python",
   "nbconvert_exporter": "python",
   "pygments_lexer": "ipython3",
   "version": "3.9.12"
  }
 },
 "nbformat": 4,
 "nbformat_minor": 5
}
