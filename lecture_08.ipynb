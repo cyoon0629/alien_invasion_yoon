{
 "cells": [
  {
   "cell_type": "markdown",
   "id": "874397ba",
   "metadata": {},
   "source": [
    "<img src=\"https://www.usna.edu/WRC/_files/WRClogos/WRCE-logo-combined-01-crop.png\" width=\"200px\">\n",
    "\n",
    "# Classes (Chapter 9)"
   ]
  },
  {
   "cell_type": "markdown",
   "id": "aeeb762b",
   "metadata": {},
   "source": [
    "Object-oriented programming is one of the most effective approaches to writing software. In object-oriented programming you write *classes* that represent real-world things and situations, and you create *objects* based on these classes. "
   ]
  },
  {
   "cell_type": "code",
   "execution_count": 3,
   "id": "4acd41b5",
   "metadata": {},
   "outputs": [],
   "source": [
    "class Dog:\n",
    "    \"\"\"A simple attempt to model a dog.\"\"\"  \n",
    "  \n",
    "    def __init__(self, name, age):\n",
    "        \"\"\"Initialize name and age attributes.\"\"\"\n",
    "        self.name = name\n",
    "        self.age = age\n",
    "        \n",
    "    def sit(self):\n",
    "        \"\"\"Simulate a dog sitting in response to a command.\"\"\"\n",
    "        print(f\"{self.name} is now sitting.\")\n",
    "\n",
    "    def roll_over(self):\n",
    "        \"\"\"Simulate rolling over in response to a command.\"\"\"\n",
    "        print(f\"{self.name} rolled over!\")\n",
    "        "
   ]
  },
  {
   "cell_type": "markdown",
   "id": "0591d0c2",
   "metadata": {},
   "source": [
    "Create two instances of the `Dog` class. These are called *instances* or *objects*."
   ]
  },
  {
   "cell_type": "code",
   "execution_count": 4,
   "id": "8d6c738b",
   "metadata": {},
   "outputs": [],
   "source": [
    "my_dog = Dog('Willie', 6)\n",
    "#my_dog = self\n",
    "#'Willie' = name\n",
    "#6 = age\n",
    "#2 attributes, but 3 inputs\n",
    "\n",
    "your_dog = Dog('Lucy', 3)"
   ]
  },
  {
   "cell_type": "markdown",
   "id": "93ade090",
   "metadata": {},
   "source": [
    "Accessing attributes and calling methods."
   ]
  },
  {
   "cell_type": "code",
   "execution_count": 5,
   "id": "4e328087",
   "metadata": {},
   "outputs": [
    {
     "name": "stdout",
     "output_type": "stream",
     "text": [
      "My dog's name is Willie.\n",
      "My dog is 6 years old.\n",
      "Willie is now sitting.\n",
      "\n",
      "Your dog's name is Lucy.\n",
      "Your dog is 3 years old.\n",
      "Lucy is now sitting.\n"
     ]
    }
   ],
   "source": [
    "print(f\"My dog's name is {my_dog.name}.\")\n",
    "print(f\"My dog is {my_dog.age} years old.\")\n",
    "my_dog.sit()\n",
    "\n",
    "print(f\"\\nYour dog's name is {your_dog.name}.\")\n",
    "print(f\"Your dog is {your_dog.age} years old.\")\n",
    "your_dog.sit()"
   ]
  },
  {
   "cell_type": "markdown",
   "id": "29618bfa",
   "metadata": {},
   "source": [
    "### Working with Classes and Instances"
   ]
  },
  {
   "cell_type": "code",
   "execution_count": 30,
   "id": "115ead70",
   "metadata": {},
   "outputs": [],
   "source": [
    "\"\"\"A class that can be used to represent a car.\"\"\"\n",
    "\n",
    "class Car():\n",
    "    \"\"\"A simple attempt to represent a car.\"\"\"\n",
    "\n",
    "    def __init__(self, manufacturer, model, year):\n",
    "        \"\"\"Initialize attributes to describe a car.\"\"\"\n",
    "        self.manufacturer = manufacturer\n",
    "        self.model = model\n",
    "        self.year = year\n",
    "        self.odometer_reading = 0\n",
    "        \n",
    "    def get_descriptive_name(self):\n",
    "        \"\"\"Return a neatly formatted descriptive name.\"\"\"\n",
    "        long_name = str(self.year) + ' ' + self.manufacturer + ' ' + self.model\n",
    "        return long_name.title()\n",
    "    \n",
    "    def read_odometer(self):\n",
    "        \"\"\"Print a statement showing the car's mileage.\"\"\"\n",
    "        print(\"This car has \" + str(self.odometer_reading) + \" miles on it.\")\n",
    "        \n",
    "    def update_odometer(self, mileage):\n",
    "        \"\"\"\n",
    "        Set the odometer reading to the given value.\n",
    "        Reject the change if it attempts to roll the odometer back.\n",
    "        \"\"\"\n",
    "        if mileage >= self.odometer_reading:\n",
    "            self.odometer_reading = mileage\n",
    "        else:\n",
    "            print(\"You can't roll back an odometer!\")\n",
    "    \n",
    "    def increment_odometer(self, miles):\n",
    "        \"\"\"Add the given amount to the odometer reading.\"\"\"\n",
    "        self.odometer_reading += miles"
   ]
  },
  {
   "cell_type": "code",
   "execution_count": 7,
   "id": "a2a6a140",
   "metadata": {},
   "outputs": [
    {
     "name": "stdout",
     "output_type": "stream",
     "text": [
      "2019 Audi A4\n",
      "This car has 0 miles on it.\n"
     ]
    }
   ],
   "source": [
    "# create a new car, odometer receives a default value\n",
    "my_new_car = Car('audi', 'a4', 2019)\n",
    "print(my_new_car.get_descriptive_name())\n",
    "my_new_car.read_odometer()"
   ]
  },
  {
   "cell_type": "code",
   "execution_count": null,
   "id": "3dcbf612",
   "metadata": {},
   "outputs": [],
   "source": [
    "# modifying attribute values\n",
    "my_new_car.odometer_reading = 23\n",
    "my_new_car.read_odometer()"
   ]
  },
  {
   "cell_type": "code",
   "execution_count": null,
   "id": "0d7616ae",
   "metadata": {},
   "outputs": [],
   "source": [
    "# modifying attribute directly with a method\n",
    "my_new_car.update_odometer(56)\n",
    "my_new_car.read_odometer()\n",
    "# this allows custom logic to validate the attribute value\n",
    "my_new_car.update_odometer(10)"
   ]
  },
  {
   "cell_type": "code",
   "execution_count": null,
   "id": "e8619a6c",
   "metadata": {},
   "outputs": [],
   "source": [
    "# modifying attribute indirectly with a method\n",
    "my_new_car.increment_odometer(20)\n",
    "my_new_car.read_odometer()"
   ]
  },
  {
   "cell_type": "markdown",
   "id": "50d0977c",
   "metadata": {},
   "source": [
    "### Inheritance"
   ]
  },
  {
   "cell_type": "markdown",
   "id": "2f4637c3",
   "metadata": {},
   "source": [
    "`ElectricCar` inherts all methods and attributes from `Car`"
   ]
  },
  {
   "cell_type": "code",
   "execution_count": 31,
   "id": "113ddc09",
   "metadata": {},
   "outputs": [],
   "source": [
    "class ElectricCar(Car):\n",
    "    \"\"\"Models aspects of a car, specific to electric vehicles.\"\"\"\n",
    "\n",
    "    def __init__(self, manufacturer, model, year):\n",
    "        \"\"\"Initialize attributes of the parent class.\"\"\"\n",
    "        super().__init__(manufacturer, model, year)\n"
   ]
  },
  {
   "cell_type": "code",
   "execution_count": 32,
   "id": "30daac76",
   "metadata": {},
   "outputs": [
    {
     "name": "stdout",
     "output_type": "stream",
     "text": [
      "2019 Tesla Model S\n"
     ]
    }
   ],
   "source": [
    "my_tesla = ElectricCar('tesla','model s',2019)\n",
    "print(my_tesla.get_descriptive_name()) # inherited from Car"
   ]
  },
  {
   "cell_type": "markdown",
   "id": "76f53523",
   "metadata": {},
   "source": [
    "New `ElectricCar` class that has a ``battery_size`` attribute and associated method ``describe_battery()``"
   ]
  },
  {
   "cell_type": "code",
   "execution_count": 36,
   "id": "02f0ae2f",
   "metadata": {},
   "outputs": [],
   "source": [
    "class ElectricCar(Car):\n",
    "    \"\"\"Models aspects of a car, specific to electric vehicles.\"\"\"\n",
    "\n",
    "    def __init__(self, manufacturer, model, year, batt):\n",
    "        \"\"\"\n",
    "        Initialize attributes of the parent class.\n",
    "        Then initialize attributes specific to an electric car.\n",
    "        \"\"\"\n",
    "        super().__init__(manufacturer, model, year)\n",
    "        self.battery_size = batt\n",
    "        \n",
    "    def describe_battery(self):\n",
    "        \"\"\"Print a statement describing the battery size.\"\"\"\n",
    "        print(f\"This car has a {self.battery_size}-kWh battery.\")   "
   ]
  },
  {
   "cell_type": "code",
   "execution_count": 37,
   "id": "e92985f5",
   "metadata": {},
   "outputs": [
    {
     "name": "stdout",
     "output_type": "stream",
     "text": [
      "2019 Tesla Model S\n",
      "This car has a 263-kWh battery.\n",
      "This car has a 100-kWh battery.\n"
     ]
    },
    {
     "ename": "AttributeError",
     "evalue": "'Car' object has no attribute 'describe_battery'",
     "output_type": "error",
     "traceback": [
      "\u001b[1;31m---------------------------------------------------------------------------\u001b[0m",
      "\u001b[1;31mAttributeError\u001b[0m                            Traceback (most recent call last)",
      "Input \u001b[1;32mIn [37]\u001b[0m, in \u001b[0;36m<cell line: 11>\u001b[1;34m()\u001b[0m\n\u001b[0;32m      6\u001b[0m my_tesla\u001b[38;5;241m.\u001b[39mdescribe_battery() \u001b[38;5;66;03m# specific to Electric Cars\u001b[39;00m\n\u001b[0;32m     10\u001b[0m my_toyota \u001b[38;5;241m=\u001b[39m Car(\u001b[38;5;124m'\u001b[39m\u001b[38;5;124mtoyota\u001b[39m\u001b[38;5;124m'\u001b[39m,\u001b[38;5;124m'\u001b[39m\u001b[38;5;124mcorolla\u001b[39m\u001b[38;5;124m'\u001b[39m,\u001b[38;5;241m2007\u001b[39m)\n\u001b[1;32m---> 11\u001b[0m \u001b[43mmy_toyota\u001b[49m\u001b[38;5;241;43m.\u001b[39;49m\u001b[43mdescribe_battery\u001b[49m()\n",
      "\u001b[1;31mAttributeError\u001b[0m: 'Car' object has no attribute 'describe_battery'"
     ]
    }
   ],
   "source": [
    "my_tesla = ElectricCar('tesla','model s',2019, 263)\n",
    "print(my_tesla.get_descriptive_name()) # inherited from Car\n",
    "my_tesla.describe_battery() # specific to Electric Cars\n",
    "\n",
    "my_tesla.battery_size = 100\n",
    "my_tesla.describe_battery() # specific to Electric Cars\n",
    "\n",
    "\n",
    "\n",
    "my_toyota = Car('toyota','corolla',2007)\n",
    "my_toyota.describe_battery() # does not work, not an ElectricCar!"
   ]
  },
  {
   "cell_type": "markdown",
   "id": "ce0c1c4c",
   "metadata": {},
   "source": [
    "Overriding methods in a child class"
   ]
  },
  {
   "cell_type": "code",
   "execution_count": null,
   "id": "d640f729",
   "metadata": {},
   "outputs": [],
   "source": [
    "class ElectricCar(Car):\n",
    "    \"\"\"Models aspects of a car, specific to electric vehicles.\"\"\"\n",
    "\n",
    "    def __init__(self, manufacturer, model, year):\n",
    "        \"\"\"\n",
    "        Initialize attributes of the parent class.\n",
    "        Then initialize attributes specific to an electric car.\n",
    "        \"\"\"\n",
    "        super().__init__(manufacturer, model, year)\n",
    "        self.battery_size = 75\n",
    "        \n",
    "    def describe_battery(self):\n",
    "        \"\"\"Print a statement describing the battery size.\"\"\"\n",
    "        print(f\"This car has a {self.battery_size}-kWh battery.\")\n",
    "        \n",
    "    def get_descriptive_name(self): # overrides parent method!\n",
    "        \"\"\"Return a neatly formatted descriptive name.\"\"\"\n",
    "        long_name = str(self.year) + ' ' + self.manufacturer + ' ' + self.model + ' [Electric!]'\n",
    "        return long_name.title()"
   ]
  },
  {
   "cell_type": "code",
   "execution_count": null,
   "id": "b4fc5176",
   "metadata": {},
   "outputs": [],
   "source": [
    "my_tesla = ElectricCar('tesla','model s',2019)\n",
    "print(my_tesla.get_descriptive_name()) # specific to ElectricCar\n",
    "\n",
    "print(my_toyota.get_descriptive_name()) # generic Car method"
   ]
  },
  {
   "cell_type": "markdown",
   "id": "0003aa09",
   "metadata": {},
   "source": [
    "### Modeling Real World Objects\n",
    "Deciding what classes to make and whether to use inheritance can be complicated. There is often no single right answer, it is up to the programmer to figure out what works best."
   ]
  },
  {
   "cell_type": "code",
   "execution_count": 47,
   "id": "f4af74d9",
   "metadata": {},
   "outputs": [
    {
     "name": "stdout",
     "output_type": "stream",
     "text": [
      "10\n"
     ]
    }
   ],
   "source": [
    "class Battery():\n",
    "    \"\"\"A simple attempt to model a battery for an electric car.\"\"\"\n",
    "\n",
    "    def __init__(self, battery_size=60):\n",
    "        \"\"\"Initialize the batteery's attributes.\"\"\"\n",
    "        self.battery_size = battery_size\n",
    "\n",
    "    def describe_battery(self):\n",
    "        \"\"\"Print a statement describing the battery size.\"\"\"\n",
    "        print(\"This car has a \" + str(self.battery_size) + \"-kWh battery.\")  \n",
    "        \n",
    "    def get_range(self):\n",
    "        \"\"\"Print a statement about the range this battery provides.\"\"\"\n",
    "        if self.battery_size == 60:\n",
    "            range = 140\n",
    "        elif self.battery_size == 85:\n",
    "            range = 185\n",
    "            \n",
    "        message = \"This car can go approximately \" + str(range)\n",
    "        message += \" miles on a full charge.\"\n",
    "        print(message)\n",
    "\n",
    "batt = Battery(10)\n",
    "print(batt.battery_size)"
   ]
  },
  {
   "cell_type": "markdown",
   "id": "0a647b2a",
   "metadata": {},
   "source": [
    "A new `ElectricCar` class that uses `Battery` to track aspects of the car's battery"
   ]
  },
  {
   "cell_type": "code",
   "execution_count": 48,
   "id": "951a66ce",
   "metadata": {},
   "outputs": [],
   "source": [
    "class ElectricCar(Car):\n",
    "    \"\"\"Models aspects of a car, specific to electric vehicles.\"\"\"\n",
    "\n",
    "    def __init__(self, manufacturer, model, year):\n",
    "        \"\"\"\n",
    "        Initialize attributes of the parent class.\n",
    "        Then initialize attributes specific to an electric car.\n",
    "        \"\"\"\n",
    "        super().__init__(manufacturer, model, year)\n",
    "        self.battery = Battery()"
   ]
  },
  {
   "cell_type": "code",
   "execution_count": 54,
   "id": "16d9f6e4",
   "metadata": {},
   "outputs": [
    {
     "name": "stdout",
     "output_type": "stream",
     "text": [
      "This car has a 60-kWh battery.\n",
      "60\n",
      "This car can go approximately 140 miles on a full charge.\n"
     ]
    }
   ],
   "source": [
    "my_tesla = ElectricCar('tesla','model s',2019)\n",
    "my_tesla.battery.describe_battery() # my_tesla has a battery which has the method describe_battery()\n",
    "\n",
    "print(my_tesla.battery.battery_size)\n",
    "\n",
    "my_tesla.battery.get_range()"
   ]
  },
  {
   "cell_type": "markdown",
   "id": "309acf01",
   "metadata": {},
   "source": [
    "### Importing Classes"
   ]
  },
  {
   "cell_type": "code",
   "execution_count": null,
   "id": "2cd36430",
   "metadata": {},
   "outputs": [],
   "source": [
    "import car\n",
    "import electric_car\n",
    "\n",
    "# use the Car class defined in car.py\n",
    "my_beetle = car.Car('volkswagen', 'beetle', 2015)\n",
    "print(my_beetle.get_descriptive_name())\n",
    "\n",
    "# use the ElectricCar class defined in electric_car.py\n",
    "my_tesla = electric_car.ElectricCar('tesla', 'roadster', 2015)\n",
    "print(my_tesla.get_descriptive_name())"
   ]
  },
  {
   "cell_type": "markdown",
   "id": "d6e28e90",
   "metadata": {},
   "source": [
    "### The Python Standard Library"
   ]
  },
  {
   "cell_type": "code",
   "execution_count": 79,
   "id": "3c029b1c",
   "metadata": {},
   "outputs": [
    {
     "name": "stdout",
     "output_type": "stream",
     "text": [
      "You rolled a 3\n",
      "Your service selection is: army\n"
     ]
    }
   ],
   "source": [
    "# example usage of a module from the standard library\n",
    "# random provides tools for generating random data\n",
    "\n",
    "from random import randint # <-- we didn't write this file, it comes with Python\n",
    "print(f\"You rolled a {randint(1,6)}\")\n",
    "\n",
    "from random import choice\n",
    "communities = ['subs','pilot','cyber','swo','marines','army']\n",
    "# feeling lucky?\n",
    "print(f\"Your service selection is: {choice(communities)}\")"
   ]
  },
  {
   "cell_type": "markdown",
   "id": "20e482ab",
   "metadata": {},
   "source": [
    "-----\n",
    "\n",
    "## Homework Problems"
   ]
  },
  {
   "cell_type": "markdown",
   "id": "a2eeddc0",
   "metadata": {},
   "source": [
    "**9-1. Restaurant:** Make a  class called `Restaurant`. The `__init__()` method for `Restaurant` should store two attributes: a `restaurant_name` and a `cuisine_type`. Make a method called `describe_restaurant()` that prints these two pieces of information, and a method called `open_restaurant()` that prints a message indicating that the restaurant is open.\n",
    "\n",
    "Make an instance called `restaurant` from your class. Print the two attributes individually, and then call both methods."
   ]
  },
  {
   "cell_type": "code",
   "execution_count": null,
   "id": "36700fb3",
   "metadata": {},
   "outputs": [],
   "source": [
    "class Restaurant:\n",
    "    \n",
    "    def __init__(self, restaurant_name, cuisine_type):\n",
    "        self.name = restaurant_name\n",
    "        self.food = cuisine_type\n",
    "        \n",
    "    def describe_restaurant(self):\n",
    "        print(self.name)\n",
    "        print(self.food)\n",
    "        \n",
    "    def open_restaurant(self):\n",
    "        print('The restaurant is open')\n",
    "\n",
    "this_rest = Restaurant('Nanos','Chinese')\n",
    "print(this_rest.name)\n",
    "print(this_rest.food)\n",
    "this_rest.describe_restaurant()\n",
    "this_rest.open_restaurant()"
   ]
  },
  {
   "cell_type": "markdown",
   "id": "528eac87",
   "metadata": {},
   "source": [
    "**9-2. Three Restaurants:** Start with your class from above. Create three different instances of the class, and call `describe_restaurant()` for each instance."
   ]
  },
  {
   "cell_type": "code",
   "execution_count": null,
   "id": "4537675c",
   "metadata": {},
   "outputs": [],
   "source": [
    "rest_one = Restaurant('McDonalds','American')\n",
    "rest_two = Restaurant('Panda Express','Chinese')\n",
    "rest_three = Restaurant('Moes','Mexican')\n",
    "\n",
    "rest_one.describe_restaurant()\n",
    "rest_two.describe_restaurant()\n",
    "rest_three.describe_restaurant()"
   ]
  },
  {
   "cell_type": "markdown",
   "id": "306d34e2",
   "metadata": {},
   "source": [
    "**9-3. Users:** Make a class called `User`. Create two attributes called `first_name` and `last_name`, and then create at least three other attributes that are typically stored in a user profile. Make a method called `describe_user()` that prints a summary of the user's information. Make another method called `greet_user()` that prints a personalized greeting to the user.\n",
    "\n",
    "Create three instances representing different users, and call both methods for each user."
   ]
  },
  {
   "cell_type": "code",
   "execution_count": null,
   "id": "3d0f20f2",
   "metadata": {},
   "outputs": [],
   "source": [
    "class User:\n",
    "    \n",
    "    def __init__(self, first_name, last_name, age, sex, weight):\n",
    "        self.first = first_name\n",
    "        self.last = last_name\n",
    "        self.age = age\n",
    "        self.sex = sex\n",
    "        self.weight = weight\n",
    "    \n",
    "    def describe_user(self):\n",
    "        print(f'first name: {self.first}')\n",
    "        print(f'last name: {self.last}')\n",
    "        print(f'age: {self.age}')\n",
    "        print(f'sex: {self.sex}')\n",
    "        print(f'weight: {self.weight}')\n",
    "    \n",
    "    def greet_user(self):\n",
    "        print(f'Hi {self.first} {self.last}, good to see you')\n",
    "\n",
    "pers1 = User('Ryan','Ong',20,'male',175)\n",
    "pers2 = User('Mary','Little',54,'female',183)\n",
    "pers3 = User('Joe','Bro',23,'male',205)\n",
    "\n",
    "pers1.describe_user()\n",
    "pers1.greet_user()\n",
    "pers2.describe_user()\n",
    "pers2.greet_user()\n",
    "pers3.describe_user()\n",
    "pers3.greet_user()"
   ]
  },
  {
   "cell_type": "markdown",
   "id": "e542940c",
   "metadata": {},
   "source": [
    "**9-4. Number Served:** Start with your program from 9-1. Add an attribute called `number_served` with a default value of 0. Create an instance called `restaurant` from this class. Print the number of customers the restaurant has served, and then change this value and print it again.\n",
    "\n",
    "Add a method called `set_number_served()` that lets you set the number of customers that have been served. Call this method with a new number and print the value again.\n",
    "\n",
    "Add a method called `increment_number_served()` that lets you increment the number of customers who've been served. Call this method with any number you like that could represent how many customers were served in, say, a day of business."
   ]
  },
  {
   "cell_type": "code",
   "execution_count": null,
   "id": "a8e910bd",
   "metadata": {},
   "outputs": [],
   "source": [
    "class Restaurant:\n",
    "    \n",
    "    def __init__(self, restaurant_name, cuisine_type, number_served=0):\n",
    "        self.name = restaurant_name\n",
    "        self.food = cuisine_type\n",
    "        self.num_serve = number_served\n",
    "        \n",
    "    def describe_restaurant(self):\n",
    "        print(self.name)\n",
    "        print(self.food)\n",
    "        \n",
    "    def open_restaurant(self):\n",
    "        print('The restaurant is open')\n",
    "\n",
    "    def set_number_served(self, set_num_serve):\n",
    "        self.num_serve = set_num_serve\n",
    "    \n",
    "    def increment_number_served(self, inc_num_serve):\n",
    "        self.num_serve += inc_num_serve\n",
    "\n",
    "restaurant = Restaurant('Nanos','Chinese',80)\n",
    "\n",
    "restaurant.set_number_served(48)\n",
    "restaurant.increment_number_served(10)\n",
    "\n",
    "print(restaurant.num_serve)\n"
   ]
  },
  {
   "cell_type": "markdown",
   "id": "ce29786e",
   "metadata": {},
   "source": [
    "**9-5. Login Attempts:** Add an attribute called `login_attempts` to your `User` class from 9-3. Write a method called `increment_login_attempts()` that increments the value of `login_attempts` by 1. Write another method called `reset_login_attempts()` that resets the value of `login_attempts` to 0.\n",
    "\n",
    "Make an instance of the `User` class and call `increment_login_attempts()` several times. Print the value of `login_attempts` to make sure it was incremented propertly, and then call `reset_login_attempts()`. Print `login_attempts` again to make sure it was reset to 0."
   ]
  },
  {
   "cell_type": "code",
   "execution_count": null,
   "id": "532334ce",
   "metadata": {},
   "outputs": [],
   "source": [
    "class User:\n",
    "    \n",
    "    def __init__(self, first_name, last_name, age, sex, weight, login_attempts):\n",
    "        self.first = first_name\n",
    "        self.last = last_name\n",
    "        self.age = age\n",
    "        self.sex = sex\n",
    "        self.weight = weight\n",
    "        self.log_attempts = login_attempts\n",
    "    \n",
    "    def describe_user(self):\n",
    "        print(f'first name: {self.first}')\n",
    "        print(f'last name: {self.last}')\n",
    "        print(f'age: {self.age}')\n",
    "        print(f'sex: {self.sex}')\n",
    "        print(f'weight: {self.weight}')\n",
    "    \n",
    "    def greet_user(self):\n",
    "        print(f'Hi {self.first} {self.last}, good to see you')\n",
    "        \n",
    "    def increment_login_attempts(self):\n",
    "        self.log_attempts +=1\n",
    "    \n",
    "    def reset_login_attempts(self):\n",
    "        self.log_attempts = 0\n",
    "\n",
    "persX = User('Ryan','Ong',20,'male',175,12)\n",
    "print(persX.log_attempts)\n",
    "\n",
    "persX.increment_login_attempts()\n",
    "persX.increment_login_attempts()\n",
    "persX.increment_login_attempts()\n",
    "persX.increment_login_attempts()\n",
    "persX.increment_login_attempts()\n",
    "print(persX.log_attempts)\n",
    "\n",
    "persX.reset_login_attempts()\n",
    "print(persX.log_attempts)"
   ]
  },
  {
   "cell_type": "markdown",
   "id": "d7b5691c",
   "metadata": {},
   "source": [
    "**9-6. Ice Cream Stand:** An ice cream stand is a specific kind of restaurant. Write a class caled `IceCreamStand` that inherits from the `Restaurant` class you wrote in 9-1 or 9-4. Either version of the clas will work; just pick the one you like better. Add an attribute called `flavors` that stores a list of ice cream flavors. Write a method that displays these flavors. Create an instance of `IceCreamStand`, and call this method."
   ]
  },
  {
   "cell_type": "code",
   "execution_count": null,
   "id": "5514cfea",
   "metadata": {},
   "outputs": [],
   "source": [
    "class IceCreamStand(Restaurant):\n",
    "    def __init__(self, restaurant_name, cuisine_type, number_served,flavors):\n",
    "        super().__init__(restaurant_name, cuisine_type, number_served)\n",
    "        self.flavors = flavors\n",
    "    \n",
    "    def disp_flavors(self):\n",
    "        print(self.flavors)\n",
    "        \n",
    "stand = IceCreamStand('Moes','ice_cream',20,['vanilla','chocolate','strawberry'])\n",
    "stand.disp_flavors()\n"
   ]
  },
  {
   "cell_type": "markdown",
   "id": "c4dec239",
   "metadata": {},
   "source": [
    "**9-7. Admin:** An administrator is a special kind of user. Write a class called `Admin` that inherits from the `User` class you wrote in 9-3 or 9-5. Add an attribute, `privileges`, that stores a list of strings like *\"can add post\"*, *\"can delete post\"*, *\"can ban user\"*, and so on. Write a method called `show_privileges()` that lists the administrator's set of privileges. Create an instance of `Admin`, and call your method."
   ]
  },
  {
   "cell_type": "code",
   "execution_count": null,
   "id": "c9d6db89",
   "metadata": {},
   "outputs": [],
   "source": [
    "class Admin(User):\n",
    "    def __init__(self,privileges):\n",
    "        self.privs = privileges\n",
    "    \n",
    "    def show_privileges(self):\n",
    "        print(self.privs)\n",
    "\n",
    "master = Admin(['can add post','can delete post','can ban user'])\n",
    "\n",
    "master.show_privileges()"
   ]
  },
  {
   "cell_type": "markdown",
   "id": "cf17d8a3",
   "metadata": {},
   "source": [
    "**9-8. Privileges:** Write a separate `Privileges` class. The class should have one attribute, `privileges`, that stores a list of strings as described in 9-7. Move the `show_privileges()` method to this class. Make a `Privileges` instance as an attribute in the `Admin` class. Create a new instance of `Admin` and use your method to show its privileges."
   ]
  },
  {
   "cell_type": "code",
   "execution_count": null,
   "id": "97a0c1e4",
   "metadata": {},
   "outputs": [],
   "source": [
    "class Privileges():\n",
    "    def __init__(self, privileges):\n",
    "        self.privs = privileges\n",
    "    \n",
    "    def show_privileges(self):\n",
    "        print(self.privs)\n",
    "\n",
    "privs = Privileges(['can add post','can delete post','can ban user','can do anything'])\n",
    "\n",
    "boss = Admin(privs.show_privileges())\n",
    "boss.show_privileges()\n"
   ]
  },
  {
   "cell_type": "markdown",
   "id": "1e8dcfd8",
   "metadata": {},
   "source": [
    "**9-9. Battery Upgrade:** Use the final verion of the `electric_car.py` from this lecture. Add a method to the `Battery` class called `upgrade_battery()`. This method should check the battery size and set the capacity to 100 if it isn't already. Make an electric car with a default battery size, call `get_range()` once, and the call `get_range()` a second time after upgrading the battery. You should see an increase in the car's range."
   ]
  },
  {
   "cell_type": "code",
   "execution_count": null,
   "id": "879119ce",
   "metadata": {},
   "outputs": [],
   "source": [
    "class ElectricCar(Car):\n",
    "    \"\"\"Models aspects of a car, specific to electric vehicles.\"\"\"\n",
    "\n",
    "    def __init__(self, manufacturer, model, year):\n",
    "        \"\"\"\n",
    "        Initialize attributes of the parent class.\n",
    "        Then initialize attributes specific to an electric car.\n",
    "        \"\"\"\n",
    "        super().__init__(manufacturer, model, year)\n",
    "        self.battery = Battery()\n",
    "        \n",
    "class Battery():\n",
    "    \"\"\"A simple attempt to model a battery for an electric car.\"\"\"\n",
    "\n",
    "    def __init__(self, battery_size=60):\n",
    "        \"\"\"Initialize the batteery's attributes.\"\"\"\n",
    "        self.battery_size = battery_size\n",
    "\n",
    "    def describe_battery(self):\n",
    "        \"\"\"Print a statement describing the battery size.\"\"\"\n",
    "        print(\"This car has a \" + str(self.battery_size) + \"-kWh battery.\")  \n",
    "        \n",
    "    def get_range(self):\n",
    "        \"\"\"Print a statement about the range this battery provides.\"\"\"\n",
    "        if self.battery_size == 60:\n",
    "            range = 140\n",
    "        elif self.battery_size == 100:\n",
    "            range = 200\n",
    "            \n",
    "        message = \"This car can go approximately \" + str(range)\n",
    "        message += \" miles on a full charge.\"\n",
    "        print(message)\n",
    "    \n",
    "    def upgrade_battery(self):\n",
    "        if self.battery_size!=100:\n",
    "            self.battery_size=100\n",
    "\n",
    "vehicle = ElectricCar('Tesla','S',2019)\n",
    "vehicle.battery.get_range()\n",
    "\n",
    "vehicle.battery.upgrade_battery()\n",
    "\n",
    "vehicle.battery.get_range()"
   ]
  },
  {
   "cell_type": "markdown",
   "id": "19613a71",
   "metadata": {},
   "source": [
    "**9-10. Imported Restaurant:** Using your latest `Restaurant` class, store it in a module. Import `Restaurant` and make an instance of the class. Then call one of its methods to show that the `import` statement is working properly."
   ]
  },
  {
   "cell_type": "code",
   "execution_count": null,
   "id": "baffb5cf",
   "metadata": {},
   "outputs": [],
   "source": [
    "import restaurant_class\n",
    "\n",
    "rest = restaurant_class.Restaurant('papa johns','pizza')\n",
    "\n",
    "rest.describe_restaurant()"
   ]
  },
  {
   "cell_type": "markdown",
   "id": "577454fe",
   "metadata": {},
   "source": [
    "**9-11. Imported Admin:** Start with your work form 9-8. Store the classes `User`, `Privileges`, and `Admin` in one module. Import just the `Admin` class and make an instance of it. Then call `show_privileges()` to show that everything is working properly."
   ]
  },
  {
   "cell_type": "code",
   "execution_count": null,
   "id": "02e3a3ff",
   "metadata": {},
   "outputs": [],
   "source": [
    "from classes_imports import Admin\n",
    "\n",
    "man = Admin('i can do whatever')\n",
    "man.show_privileges()"
   ]
  },
  {
   "cell_type": "markdown",
   "id": "1c5078e8",
   "metadata": {},
   "source": [
    "**9-12. Multiple Modules:** Store the `User` class in one module, and store the `Privileges` and `Admin` classes in a a seperate module. Set up the import statements so that you can create an instance of an `Admin` below. Then call `show_privileges()` to show that everything is working properly."
   ]
  },
  {
   "cell_type": "code",
   "execution_count": null,
   "id": "6979f937",
   "metadata": {},
   "outputs": [],
   "source": [
    "import classes_imports\n",
    "import classes_imports2\n",
    "\n",
    "man2 = Admin('i can do whatever')\n",
    "man2.show_privileges()"
   ]
  },
  {
   "cell_type": "markdown",
   "id": "66f328be",
   "metadata": {},
   "source": [
    "**9-13. Dice:** Make a class `Die` with one attribute called `sides`, which has a default value of 6. Write a method called `roll_die()` that prints a random number between 1 and the number of sides the die has. Make a 6-sided die and roll it 10 times.\n",
    "\n",
    "Make a 10-sided die and a 20-sided die. Roll each die 10 times."
   ]
  },
  {
   "cell_type": "code",
   "execution_count": 1,
   "id": "1b83f9e3",
   "metadata": {},
   "outputs": [
    {
     "name": "stdout",
     "output_type": "stream",
     "text": [
      "4\n",
      "4\n",
      "6\n",
      "1\n",
      "4\n",
      "4\n",
      "next\n",
      "9\n",
      "8\n",
      "5\n",
      "3\n",
      "6\n",
      "6\n",
      "3\n",
      "9\n",
      "2\n",
      "2\n",
      "next\n",
      "11\n",
      "9\n",
      "20\n",
      "20\n",
      "8\n",
      "6\n",
      "10\n",
      "5\n",
      "15\n",
      "8\n"
     ]
    }
   ],
   "source": [
    "from random import randint\n",
    "\n",
    "class Die():\n",
    "    def __init__(self, sides=6):\n",
    "        self.sds = sides\n",
    "    \n",
    "    def roll_die(self):\n",
    "        print(randint(1,self.sds))\n",
    "die6 = Die()\n",
    "for i in range(6):\n",
    "    die6.roll_die()\n",
    "print('next')\n",
    "\n",
    "die10 = Die(10)\n",
    "for i in range(10):\n",
    "    die10.roll_die()\n",
    "print('next') \n",
    "\n",
    "die20 = Die(20)\n",
    "for i in range(10):\n",
    "    die20.roll_die()"
   ]
  },
  {
   "cell_type": "markdown",
   "id": "5d122a44",
   "metadata": {},
   "source": [
    "**9-14. Lottery:** Make a list or tuple containing a series of 10 numbers and five letters. Randomly select four numbers or letters from the list and print a message saying that any ticket matching these four numbers or letters wins a prize."
   ]
  },
  {
   "cell_type": "code",
   "execution_count": 1,
   "id": "8fff4f84",
   "metadata": {},
   "outputs": [
    {
     "name": "stdout",
     "output_type": "stream",
     "text": [
      "if you have a ticket matching [8, 2, 6, 's'], you win\n"
     ]
    }
   ],
   "source": [
    "from random import choice\n",
    "\n",
    "series = [4,6,'s',8,2,'f','w','n',5,3,8,1,'t',0,9]\n",
    "winners = []\n",
    "\n",
    "for i in range(4):\n",
    "    winners.append(choice(series))\n",
    "\n",
    "print(f'if you have a ticket matching {winners}, you win')\n"
   ]
  },
  {
   "cell_type": "markdown",
   "id": "834a88f4",
   "metadata": {},
   "source": [
    "**9-15. Lottery Analysis:** You can use a loop to see how hard it might be to win the kind of lottery you just modeled. Make a list or tuple called `my_ticket`. Write a loop that keeps pulling numbers until your ticket wins. Print a message reporting how many times the loop had to run to give you a winning ticket."
   ]
  },
  {
   "cell_type": "code",
   "execution_count": null,
   "id": "98011c3d",
   "metadata": {},
   "outputs": [],
   "source": [
    "from random import randint\n",
    "\n",
    "my_ticket = [3,9,2,4]\n",
    "\n",
    "count = 0\n",
    "winner = []\n",
    "while winner!=my_ticket:\n",
    "    for i in range(4):\n",
    "        winner.append(randint(1,10))\n",
    "    count +=1\n",
    "\n",
    "print(count)"
   ]
  },
  {
   "cell_type": "markdown",
   "id": "ccaf26d1",
   "metadata": {},
   "source": [
    "**9-16. Python Module of the Week:** One excellent resource for exploring the Python standard library is a site called `Python Module of the Week`. Go to https://pymotw.com/ and look at the table of contents. Find a module that looks interesting to you and read about it, perhaps starting with the `random` module. Write three things you learned about the module below."
   ]
  },
  {
   "cell_type": "raw",
   "id": "bbd9da1a",
   "metadata": {},
   "source": [
    "math.pi\n",
    "math.e\n",
    "math.nan : used to see if program results in something that is not a number (nan)\n",
    "math.inf : used to see if overflow occurs in a program (go to infinity)\n",
    "math.trunc : takes out digits after the decimal (no rounding)"
   ]
  }
 ],
 "metadata": {
  "kernelspec": {
   "display_name": "Python 3 (ipykernel)",
   "language": "python",
   "name": "python3"
  },
  "language_info": {
   "codemirror_mode": {
    "name": "ipython",
    "version": 3
   },
   "file_extension": ".py",
   "mimetype": "text/x-python",
   "name": "python",
   "nbconvert_exporter": "python",
   "pygments_lexer": "ipython3",
   "version": "3.9.12"
  }
 },
 "nbformat": 4,
 "nbformat_minor": 5
}
