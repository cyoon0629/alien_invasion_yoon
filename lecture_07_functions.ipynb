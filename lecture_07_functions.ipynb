{
 "cells": [
  {
   "cell_type": "markdown",
   "id": "874397ba",
   "metadata": {},
   "source": [
    "<img src=\"https://www.usna.edu/WRC/_files/WRClogos/WRCE-logo-combined-01-crop.png\" width=\"200px\">\n",
    "\n",
    "# Functions (Chapter 8)"
   ]
  },
  {
   "cell_type": "markdown",
   "id": "aeeb762b",
   "metadata": {},
   "source": [
    "Functions are named blocks of code that are designed to do one specific job. Functions are useful to:\n",
    "* *Reduce the amount of code you need to write*- the same function can be called as many times as needed\n",
    "* *Make your code more readable*- breaking code into smaller blocks with meaningful names and roles\n",
    "* *Make it easier to resuse code*- if you need the same function again in the future just `import` it"
   ]
  },
  {
   "cell_type": "code",
   "execution_count": 1,
   "id": "50c01b6b",
   "metadata": {},
   "outputs": [
    {
     "name": "stdout",
     "output_type": "stream",
     "text": [
      "Hello!\n",
      "\n",
      "\n",
      "Help on function greet_user in module __main__:\n",
      "\n",
      "greet_user()\n",
      "    Display a simple greeting\n",
      "\n"
     ]
    }
   ],
   "source": [
    "# defining a function\n",
    "def greet_user():\n",
    "    \"\"\"Display a simple greeting\"\"\"\n",
    "    print(\"Hello!\")\n",
    "    \n",
    "greet_user()\n",
    "print(\"\\n\")\n",
    "help(greet_user) # built in help function prints the comment below the function name"
   ]
  },
  {
   "cell_type": "code",
   "execution_count": null,
   "id": "50530628",
   "metadata": {},
   "outputs": [],
   "source": [
    "# passing in information (parameters)\n",
    "def greet_user(username):\n",
    "    \"\"\"Display a simple greeting\"\"\"\n",
    "    print(f\"Hello, {username.title()}!\")\n",
    "    \n",
    "greet_user(\"alice\")"
   ]
  },
  {
   "cell_type": "code",
   "execution_count": null,
   "id": "d153d199",
   "metadata": {},
   "outputs": [],
   "source": [
    "# positional arguments\n",
    "def describe_pet(animal_type, pet_name):\n",
    "    \"\"\"Display information about a pet.\"\"\"\n",
    "    print(f\"\\nI have a {animal_type}.\")\n",
    "    print(f\"My {animal_type}'s name is {pet_name.title()}.\")\n",
    "    \n",
    "describe_pet('hamster','harry')\n",
    "# order matters!\n",
    "describe_pet('harry','hamster')\n"
   ]
  },
  {
   "cell_type": "code",
   "execution_count": null,
   "id": "c8e9a265",
   "metadata": {},
   "outputs": [],
   "source": [
    "# keyword arguments\n",
    "def describe_pet(pet_name, animal_type):\n",
    "    \"\"\"Display information about a pet.\"\"\"\n",
    "    print(f\"\\nI have a {animal_type}.\")\n",
    "    print(f\"My {animal_type}'s name is {pet_name.title()}.\")\n",
    "    \n",
    "describe_pet(pet_name='willie', animal_type='whale')\n",
    "# order does not matter\n",
    "describe_pet(animal_type='whale',pet_name='willie')\n"
   ]
  },
  {
   "cell_type": "code",
   "execution_count": 2,
   "id": "762d3174",
   "metadata": {},
   "outputs": [
    {
     "name": "stdout",
     "output_type": "stream",
     "text": [
      "\n",
      "I have a dog.\n",
      "My dog's name is Davis.\n"
     ]
    }
   ],
   "source": [
    "# default values\n",
    "def describe_pet(pet_name, animal_type='dog'):\n",
    "    \"\"\"Display information about a pet.\"\"\"\n",
    "    print(f\"\\nI have a {animal_type}.\")\n",
    "    print(f\"My {animal_type}'s name is {pet_name.title()}.\")\n",
    "\n",
    "#one argument, because other argument had a default value\n",
    "describe_pet('davis')"
   ]
  },
  {
   "cell_type": "code",
   "execution_count": null,
   "id": "eedcdf5d",
   "metadata": {},
   "outputs": [],
   "source": [
    "# equivalent function calls\n",
    "\n",
    "# keyword\n",
    "describe_pet(pet_name='davis')\n",
    "# positional\n",
    "describe_pet('davis')\n",
    "# combination (using same value as default)\n",
    "describe_pet('davis',animal_type='dog')"
   ]
  },
  {
   "cell_type": "markdown",
   "id": "104d7dd9",
   "metadata": {},
   "source": [
    "### Return Values\n",
    "Functions can optionally return a result rather than outputing data directly."
   ]
  },
  {
   "cell_type": "code",
   "execution_count": 6,
   "id": "3d372c7d",
   "metadata": {},
   "outputs": [
    {
     "name": "stdout",
     "output_type": "stream",
     "text": [
      "Jimi Hendrix\n"
     ]
    }
   ],
   "source": [
    "def get_formatted_name(first_name, last_name):\n",
    "    \"\"\"Return a full name, neatly formatted.\"\"\"\n",
    "    full_name = f\"{first_name} {last_name}\"\n",
    "    return full_name.title()\n",
    "    \n",
    "musician = get_formatted_name('jimi', 'hendrix')\n",
    "\n",
    "print(musician)"
   ]
  },
  {
   "cell_type": "code",
   "execution_count": 7,
   "id": "697fa44d",
   "metadata": {},
   "outputs": [
    {
     "name": "stdout",
     "output_type": "stream",
     "text": [
      "Jimi Hendrix\n",
      "John Lee Hooker\n"
     ]
    }
   ],
   "source": [
    "# optional arguments\n",
    "def get_formatted_name(first_name, last_name, middle_name=''):\n",
    "    \"\"\"Return a full name, neatly formatted.\"\"\"\n",
    "    if middle_name:\n",
    "        full_name = f\"{first_name} {middle_name} {last_name}\"\n",
    "    else:\n",
    "        full_name = f\"{first_name} {last_name}\"\n",
    "    return full_name.title()\n",
    "    \n",
    "musician = get_formatted_name('jimi', 'hendrix')\n",
    "print(musician)\n",
    "\n",
    "musician = get_formatted_name('john', 'hooker', 'lee')\n",
    "print(musician)"
   ]
  },
  {
   "cell_type": "code",
   "execution_count": 10,
   "id": "a2fc61d1",
   "metadata": {},
   "outputs": [
    {
     "name": "stdout",
     "output_type": "stream",
     "text": [
      "{'first': 'jimi', 'last': 'hendrix', 'age': 27}\n"
     ]
    }
   ],
   "source": [
    "# returning other data types like a dictionary\n",
    "\n",
    "def build_person(first_name, last_name, age=None):\n",
    "    \"\"\"Return a dictionary of information about a person.\"\"\"\n",
    "    person = {'first': first_name, 'last': last_name}\n",
    "    if age:\n",
    "        person['age'] = age\n",
    "    return person\n",
    "\n",
    "musician = build_person('jimi', 'hendrix', age=27)\n",
    "print(musician)"
   ]
  },
  {
   "cell_type": "code",
   "execution_count": null,
   "id": "913c024a",
   "metadata": {},
   "outputs": [],
   "source": []
  },
  {
   "cell_type": "code",
   "execution_count": 11,
   "id": "cabee81f",
   "metadata": {},
   "outputs": [
    {
     "name": "stdout",
     "output_type": "stream",
     "text": [
      "\n",
      "Please tell me your name:\n",
      "(enter 'q' at any time to quit)\n",
      "First name: d\n",
      "Last name: d\n",
      "\n",
      "Hello, D D!\n",
      "\n",
      "Please tell me your name:\n",
      "(enter 'q' at any time to quit)\n",
      "First name: \n",
      "Last name: d\n",
      "\n",
      "Hello,  D!\n",
      "\n",
      "Please tell me your name:\n",
      "(enter 'q' at any time to quit)\n",
      "First name: d\n",
      "Last name: q\n"
     ]
    }
   ],
   "source": [
    "# using functions with a while loop\n",
    "def get_formatted_name(first_name, last_name):\n",
    "    \"\"\"Return a full name, neatly formatted.\"\"\"\n",
    "    full_name = f\"{first_name} {last_name}\"\n",
    "    return full_name.title()\n",
    "\n",
    "# This is an infinite loop!\n",
    "while True:\n",
    "    print(\"\\nPlease tell me your name:\")\n",
    "    print(\"(enter 'q' at any time to quit)\")\n",
    "\n",
    "    f_name = input(\"First name: \")\n",
    "    if f_name == 'q':\n",
    "        break\n",
    "\n",
    "    l_name = input(\"Last name: \")\n",
    "    if l_name == 'q':\n",
    "        break\n",
    "    \n",
    "    formatted_name = get_formatted_name(f_name, l_name)\n",
    "    print(f\"\\nHello, {formatted_name}!\")"
   ]
  },
  {
   "cell_type": "markdown",
   "id": "f5860222",
   "metadata": {},
   "source": [
    "### Passing Lists as Parameters"
   ]
  },
  {
   "cell_type": "code",
   "execution_count": 12,
   "id": "e0d753fa",
   "metadata": {},
   "outputs": [
    {
     "name": "stdout",
     "output_type": "stream",
     "text": [
      "Hello, Hannah!\n",
      "Hello, Ty!\n",
      "Hello, Margot!\n"
     ]
    }
   ],
   "source": [
    "# passing a list\n",
    "def greet_users(names):\n",
    "    \"\"\"Print a simple greeting to each user in the list.\"\"\"\n",
    "    for name in names:\n",
    "        msg = f\"Hello, {name.title()}!\"\n",
    "        print(msg)\n",
    "\n",
    "usernames = ['hannah', 'ty', 'margot']\n",
    "greet_users(usernames)"
   ]
  },
  {
   "cell_type": "code",
   "execution_count": 13,
   "id": "5b98c879",
   "metadata": {},
   "outputs": [
    {
     "name": "stdout",
     "output_type": "stream",
     "text": [
      "Printing model: dodecahedron\n",
      "Printing model: robot pendant\n",
      "Printing model: phone case\n",
      "\n",
      "The following models have been printed:\n",
      "dodecahedron\n",
      "robot pendant\n",
      "phone case\n",
      "\n",
      "There are 0 models left to be printed\n",
      "[]\n",
      "['dodecahedron', 'robot pendant', 'phone case']\n"
     ]
    }
   ],
   "source": [
    "# modifying a list in a function\n",
    "def print_models(unprinted_designs, completed_models):\n",
    "    \"\"\"\n",
    "    Simulate printing each design, until none are left.\n",
    "    Move each design to completed_models after printing.\n",
    "    \"\"\"\n",
    "    while unprinted_designs:\n",
    "        current_design = unprinted_designs.pop()\n",
    "        print(f\"Printing model: {current_design}\")\n",
    "        completed_models.append(current_design)\n",
    "        \n",
    "def show_completed_models(completed_models):\n",
    "    \"\"\"Show all the models that were printed.\"\"\"\n",
    "    print(\"\\nThe following models have been printed:\")\n",
    "    for completed_model in completed_models:\n",
    "        print(completed_model)\n",
    "        \n",
    "unprinted_designs = ['phone case', 'robot pendant', 'dodecahedron']\n",
    "completed_models = []\n",
    "\n",
    "print_models(unprinted_designs, completed_models)\n",
    "show_completed_models(completed_models)\n",
    "print(f\"\\nThere are {len(unprinted_designs)} models left to be printed\")\n",
    "\n",
    "print(unprinted_designs)\n",
    "print(completed_models)"
   ]
  },
  {
   "cell_type": "code",
   "execution_count": 14,
   "id": "12dd3cb8",
   "metadata": {},
   "outputs": [
    {
     "name": "stdout",
     "output_type": "stream",
     "text": [
      "Printing model: dodecahedron\n",
      "Printing model: robot pendant\n",
      "Printing model: phone case\n",
      "\n",
      "The following models have been printed:\n",
      "dodecahedron\n",
      "robot pendant\n",
      "phone case\n",
      "\n",
      "There are 3 models left to be printed\n",
      "['phone case', 'robot pendant', 'dodecahedron']\n"
     ]
    }
   ],
   "source": [
    "# preventing a function from modifying a list\n",
    "# pass in a copy using the slice notation\n",
    "      \n",
    "unprinted_designs = ['phone case', 'robot pendant', 'dodecahedron']\n",
    "completed_models = []\n",
    "\n",
    "print_models(unprinted_designs[:], completed_models) # <--- slice notation for unprinted_designs\n",
    "show_completed_models(completed_models)\n",
    "print(f\"\\nThere are {len(unprinted_designs)} models left to be printed\")\n",
    "print(unprinted_designs)"
   ]
  },
  {
   "cell_type": "markdown",
   "id": "8b320492",
   "metadata": {},
   "source": [
    "### Passing an Arbitrary Number of Arguments\n",
    "Useful if you do not know how many arguments you will need ahead of time. In practice this is not very common. Try to avoid using in your code but you may find it in libraries that you use in the future."
   ]
  },
  {
   "cell_type": "code",
   "execution_count": 15,
   "id": "e749726b",
   "metadata": {},
   "outputs": [
    {
     "name": "stdout",
     "output_type": "stream",
     "text": [
      "('pepperoni',)\n",
      "('mushrooms', 'green peppers', 'extra cheese')\n"
     ]
    }
   ],
   "source": [
    "def make_pizza(*toppings):\n",
    "    print(toppings)\n",
    "    \n",
    "make_pizza('pepperoni')\n",
    "make_pizza('mushrooms','green peppers','extra cheese')"
   ]
  },
  {
   "cell_type": "code",
   "execution_count": 16,
   "id": "1a4de0db",
   "metadata": {},
   "outputs": [
    {
     "name": "stdout",
     "output_type": "stream",
     "text": [
      "\n",
      "Making a pizza with the following toppings:\n",
      "- pepperoni\n",
      "\n",
      "Making a pizza with the following toppings:\n",
      "- mushrooms\n",
      "- green peppers\n",
      "- extra cheese\n"
     ]
    }
   ],
   "source": [
    "# add a loop to produce formatted output\n",
    "\n",
    "def make_pizza(*toppings):\n",
    "    \"\"\"Summarize the pizza we are about to make.\"\"\"\n",
    "    print(f\"\\nMaking a pizza with the following toppings:\")\n",
    "    for topping in toppings:\n",
    "        print(f\"- {topping}\")\n",
    "        \n",
    "make_pizza('pepperoni')\n",
    "make_pizza('mushrooms','green peppers','extra cheese')"
   ]
  },
  {
   "cell_type": "code",
   "execution_count": 17,
   "id": "ad17a435",
   "metadata": {},
   "outputs": [
    {
     "name": "stdout",
     "output_type": "stream",
     "text": [
      "\n",
      "Making a 16-inch pizza with the following toppings:\n",
      "- pepperoni\n",
      "\n",
      "Making a 12-inch pizza with the following toppings:\n",
      "- mushrooms\n",
      "- green peppers\n",
      "- extra cheese\n"
     ]
    }
   ],
   "source": [
    "# mixing positional and arbitrary arguments\n",
    "\n",
    "def make_pizza(size, *toppings):\n",
    "    \"\"\"Summarize the pizza we are about to make.\"\"\"\n",
    "    print(f\"\\nMaking a {size}-inch pizza with the following toppings:\")\n",
    "    for topping in toppings:\n",
    "        print(f\"- {topping}\")\n",
    "        \n",
    "make_pizza(16, 'pepperoni')\n",
    "make_pizza(12, 'mushrooms','green peppers','extra cheese')"
   ]
  },
  {
   "cell_type": "markdown",
   "id": "c678e9b6",
   "metadata": {},
   "source": [
    "### Storing Functions in Modules\n",
    "Modules are useful for separating large programs into multiple files with groups of similar functions. This also makes it easier to reuse your code in the future."
   ]
  },
  {
   "cell_type": "code",
   "execution_count": null,
   "id": "9de7fde3",
   "metadata": {},
   "outputs": [],
   "source": [
    "# importing an entire module (recommended!)\n",
    "import pizza\n",
    "\n",
    "pizza.make_pizza(16, 'pepperoni')\n",
    "pizza.make_pizza(12, 'mushrooms','green peppers','extra cheese')"
   ]
  },
  {
   "cell_type": "code",
   "execution_count": null,
   "id": "a614ef55",
   "metadata": {},
   "outputs": [],
   "source": [
    "# importing a specific function (less recommended)\n",
    "from pizza import make_pizza\n",
    "\n",
    "make_pizza(16, 'pepperoni')\n",
    "make_pizza(12, 'mushrooms','green peppers','extra cheese')"
   ]
  },
  {
   "cell_type": "code",
   "execution_count": null,
   "id": "df04ea8e",
   "metadata": {},
   "outputs": [],
   "source": [
    "# using aliases (try to avoid)\n",
    "from pizza import make_pizza as mp\n",
    "mp(16, 'pepperoni')\n",
    "mp(12, 'mushrooms','green peppers','extra cheese')\n",
    "\n",
    "import pizza as p\n",
    "p.make_pizza(16, 'pepperoni')\n",
    "p.make_pizza(12, 'mushrooms','green peppers','extra cheese')"
   ]
  },
  {
   "cell_type": "code",
   "execution_count": 18,
   "id": "f57e58d6",
   "metadata": {},
   "outputs": [
    {
     "ename": "ModuleNotFoundError",
     "evalue": "No module named 'pizza'",
     "output_type": "error",
     "traceback": [
      "\u001b[1;31m---------------------------------------------------------------------------\u001b[0m",
      "\u001b[1;31mModuleNotFoundError\u001b[0m                       Traceback (most recent call last)",
      "Input \u001b[1;32mIn [18]\u001b[0m, in \u001b[0;36m<cell line: 6>\u001b[1;34m()\u001b[0m\n\u001b[0;32m      3\u001b[0m \u001b[38;5;28;01mdef\u001b[39;00m \u001b[38;5;21msay_hello\u001b[39m():\n\u001b[0;32m      4\u001b[0m     \u001b[38;5;28mprint\u001b[39m(\u001b[38;5;124m\"\u001b[39m\u001b[38;5;130;01m\\n\u001b[39;00m\u001b[38;5;124mHello world!\u001b[39m\u001b[38;5;124m\"\u001b[39m)\n\u001b[1;32m----> 6\u001b[0m \u001b[38;5;28;01mfrom\u001b[39;00m \u001b[38;5;21;01mpizza\u001b[39;00m \u001b[38;5;28;01mimport\u001b[39;00m \u001b[38;5;241m*\u001b[39m\n\u001b[0;32m      7\u001b[0m make_pizza(\u001b[38;5;241m16\u001b[39m, \u001b[38;5;124m'\u001b[39m\u001b[38;5;124mpepperoni\u001b[39m\u001b[38;5;124m'\u001b[39m)\n\u001b[0;32m      8\u001b[0m make_pizza(\u001b[38;5;241m12\u001b[39m, \u001b[38;5;124m'\u001b[39m\u001b[38;5;124mmushrooms\u001b[39m\u001b[38;5;124m'\u001b[39m,\u001b[38;5;124m'\u001b[39m\u001b[38;5;124mgreen peppers\u001b[39m\u001b[38;5;124m'\u001b[39m,\u001b[38;5;124m'\u001b[39m\u001b[38;5;124mextra cheese\u001b[39m\u001b[38;5;124m'\u001b[39m)\n",
      "\u001b[1;31mModuleNotFoundError\u001b[0m: No module named 'pizza'"
     ]
    }
   ],
   "source": [
    "# importing all functions in a module (really try to avoid!)\n",
    "\n",
    "def say_hello():\n",
    "    print(\"\\nHello world!\")\n",
    "    \n",
    "from pizza import *\n",
    "make_pizza(16, 'pepperoni')\n",
    "make_pizza(12, 'mushrooms','green peppers','extra cheese')\n",
    "\n",
    "say_hello() # runs the pizza module's function!"
   ]
  },
  {
   "cell_type": "markdown",
   "id": "20e482ab",
   "metadata": {},
   "source": [
    "-----\n",
    "\n",
    "## Homework Problems"
   ]
  },
  {
   "cell_type": "markdown",
   "id": "a2eeddc0",
   "metadata": {},
   "source": [
    "**8-1. Message:** Write a function called `display_message()` that prints one sentence telling everyone what you are learning about in this chapter. Call the function, and make sure the message displays correctly."
   ]
  },
  {
   "cell_type": "code",
   "execution_count": null,
   "id": "36700fb3",
   "metadata": {},
   "outputs": [],
   "source": [
    "def display_message():\n",
    "    print('I am learning about functions.')\n",
    "display_message()"
   ]
  },
  {
   "cell_type": "markdown",
   "id": "fce32c9a",
   "metadata": {},
   "source": [
    "**8-2. Favorite Book:** Write a function called `favorite_book()` that accepts one parameter, `title`. The function should print a message, such as *One of my favorite books is Alice in Wonderland.* Call the function, making sure to include a book title as an argument in the function call."
   ]
  },
  {
   "cell_type": "code",
   "execution_count": null,
   "id": "716df0b0",
   "metadata": {},
   "outputs": [],
   "source": [
    "def favorite_book(title):\n",
    "    print(f'One of my favorite books is {title}.')\n",
    "favorite_book('Harry Potter')"
   ]
  },
  {
   "cell_type": "markdown",
   "id": "64c04784",
   "metadata": {},
   "source": [
    "**8-3. T-Shirt:** Write a function called `make_shirt()` that accepts a size and the text of a message that should be printed on the shirt. The function should print a sentence summarizing the size of the shirt and the message printed on it.\n",
    "\n",
    "Call the function using positional arguments to make a shirt. Call the function a second time using keyword arguments."
   ]
  },
  {
   "cell_type": "code",
   "execution_count": null,
   "id": "84a580b9",
   "metadata": {},
   "outputs": [],
   "source": [
    "def make_shirt(size, text):\n",
    "    print(f'This shirt is a size {size} and will have {text} printed on it.')\n",
    "make_shirt('medium','yea baby!')\n",
    "make_shirt(text='yea baby!',size='medium')"
   ]
  },
  {
   "cell_type": "markdown",
   "id": "1d15b316",
   "metadata": {},
   "source": [
    "**8-4. Large Shirts:** Modify the `make_shirt()` function so that shirts are large by default with a message that reads *I love Python*. Make a large shirt and a medium shirt with the default message, and a shirt of any size with a different message."
   ]
  },
  {
   "cell_type": "code",
   "execution_count": null,
   "id": "ca63bc23",
   "metadata": {},
   "outputs": [],
   "source": [
    "def make_shirt(size='large',text='I love Python'):\n",
    "    print(f'This shirt is a size {size} and will have {text} printed on it.')\n",
    "make_shirt(size='medium')\n",
    "make_shirt()\n",
    "make_shirt(text='I hate Python')"
   ]
  },
  {
   "cell_type": "markdown",
   "id": "c3f0b783",
   "metadata": {},
   "source": [
    "**8-5. Cities:** Write a function called `describe_city()` that accepts the name of a city and its country. The function should print a simple sentence, such as *Reykjavik is in Iceland.* Give the parameter for the country a default value. Call your function for three different cities, at least one of which is not in the default country (pass the correct country as a keyword parameter)."
   ]
  },
  {
   "cell_type": "code",
   "execution_count": null,
   "id": "00fd7c83",
   "metadata": {},
   "outputs": [],
   "source": [
    "def describe_city(city, country='US'):\n",
    "    print(f'{city} is in {country}')\n",
    "describe_city('San Diego')\n",
    "describe_city('Atlanta')\n",
    "describe_city('Seoul', country='Korea')"
   ]
  },
  {
   "cell_type": "markdown",
   "id": "400e3abb",
   "metadata": {},
   "source": [
    "**8-6. City Names:** Write a function called `city_country()` that takes in the name of a city and its country. The function should return a string formatted like this:\n",
    "\n",
    "    \"Santiago, Chile\"\n",
    "\n",
    "Call your function with at least three city-country pairs, and print the values that are returned."
   ]
  },
  {
   "cell_type": "code",
   "execution_count": null,
   "id": "d100247b",
   "metadata": {},
   "outputs": [],
   "source": [
    "def city_country(city, country):\n",
    "    print(f'{city}, {country}')\n",
    "\n",
    "city_country('Budapest','Hungary')\n",
    "city_country('Cairo','Egypt')\n",
    "city_country('Cape Town','South Africa')"
   ]
  },
  {
   "cell_type": "markdown",
   "id": "2478859d",
   "metadata": {},
   "source": [
    "**8-7. Album:** Write a function called `make_album()` that builds a dictionary describing a music album. The function should take in an artist name and an album title, and it should return a dictionary containing these two pieces of information. Use the function to make three dictionaries representing different albums. Print each return value to show that the dictionaries are storing the album information correctly.\n",
    "\n",
    "Use `None` to add an optional parameter to `make_album()` that alows you to store the number of songs on an album. If the calling line includes a values for the number of songs, add that value to the album's dictionary. Make at least one new function call that includes the number of songs on an album."
   ]
  },
  {
   "cell_type": "code",
   "execution_count": null,
   "id": "71f617b6",
   "metadata": {},
   "outputs": [],
   "source": [
    "def make_album(artist, title, num_songs=0):\n",
    "    album={'artist':artist,'title':title}\n",
    "    if num_songs:\n",
    "        album['num_songs']=num_songs\n",
    "    return album\n",
    "\n",
    "print(make_album('Kodak', 'Hood'))\n",
    "print(make_album('Tjay', 'Calling My Phone'))\n",
    "print(make_album('Taylor Swift', 'Red'))\n",
    "print(make_album('Drake', 'Owl',20))"
   ]
  },
  {
   "cell_type": "markdown",
   "id": "a79ea950",
   "metadata": {},
   "source": [
    "**8-8. User Albums:** Start with your program from Exercise 8-7. Write a `while` loop that allows users to enter an album's artist and title. Once you have that information, call `make_album()` with the users' input and print the dictionary that's created. Be sure to include a quit value in the while loop."
   ]
  },
  {
   "cell_type": "code",
   "execution_count": null,
   "id": "1058b307",
   "metadata": {},
   "outputs": [],
   "source": [
    "def make_album(artist, title, num_songs=0):\n",
    "    album={'artist':artist,'title':title}\n",
    "    if num_songs:\n",
    "        album['num_songs']=num_songs\n",
    "    return album\n",
    "\n",
    "while True:\n",
    "    artist_name = input('Enter the name of the artist: ')\n",
    "    if artist_name == 'q':\n",
    "        break\n",
    "    album_title = input('Enter the album title: ')\n",
    "    if album_title == 'q':\n",
    "        break\n",
    "\n",
    "    made_album = make_album(artist_name, album_title)\n",
    "    print(made_album)"
   ]
  },
  {
   "cell_type": "markdown",
   "id": "a2a32fb4",
   "metadata": {},
   "source": [
    "**8-9. Messages:** Make a list containing a series of short text messages. Pass the list to a function called `show_messages()`, which prints each text message."
   ]
  },
  {
   "cell_type": "code",
   "execution_count": null,
   "id": "b59c18d9",
   "metadata": {},
   "outputs": [],
   "source": [
    "def show_messages(message_list):\n",
    "    for i in message_list:\n",
    "        print(i)\n",
    "m_list = ['hi','lol','ur so funny','im never talking to you again']\n",
    "\n",
    "show_messages(m_list)"
   ]
  },
  {
   "cell_type": "markdown",
   "id": "2dca00b1",
   "metadata": {},
   "source": [
    "**8-10. Sending Messages:** Start with a copy of your program from Exercise 8-9. Write a function called `send_messages()` that prints each text message and moves each message to a new list called `sent_messages` as it's printed. After calling the function, print both of your lists to make sure the messages were moved correctly."
   ]
  },
  {
   "cell_type": "code",
   "execution_count": null,
   "id": "fc22f3f2",
   "metadata": {},
   "outputs": [],
   "source": [
    "def send_messages(message_list, sent_messages):\n",
    "    for i in message_list:\n",
    "        print(i)\n",
    "    while len(message_list)>0:\n",
    "        add = message_list.pop(0)\n",
    "        sent_messages.append(add)\n",
    "        \n",
    "        \n",
    "text_list = ['hi','lol','ur so funny','im never talking to you again']\n",
    "sent_texts=[]\n",
    "\n",
    "send_messages(text_list, sent_texts)\n",
    "\n",
    "print(text_list)\n",
    "print(sent_texts)"
   ]
  },
  {
   "cell_type": "markdown",
   "id": "aa4dbc8f",
   "metadata": {},
   "source": [
    "**8-11. Archived Messages:** Start with your work from Exercise 8-10. Call the function `send_messages()` with a copy of the list of messages. After calling the function, print both of your lists to show that the original list has retained its messages."
   ]
  },
  {
   "cell_type": "code",
   "execution_count": null,
   "id": "b56bba01",
   "metadata": {},
   "outputs": [],
   "source": [
    "def send_messages(message_list, sent_messages):\n",
    "    for i in message_list:\n",
    "        print(i)\n",
    "    while len(message_list)>0:\n",
    "        add = message_list.pop(0)\n",
    "        sent_messages.append(add)\n",
    "        \n",
    "        \n",
    "text_list = ['hi','lol','ur so funny','im never talking to you again']\n",
    "sent_texts=[]\n",
    "\n",
    "copy_entering_function = text_list[:]\n",
    "send_messages(copy_entering_function, sent_texts)\n",
    "\n",
    "print(text_list)\n",
    "print(copy_entering_function)"
   ]
  },
  {
   "cell_type": "markdown",
   "id": "2adb6fda",
   "metadata": {},
   "source": [
    "**8-12. Sandwiches:** Write a function that accepts a list of items a person wants on a sandwich. The function should have one parameter that collects as many items as the function call provides, and it should print a summary of the sandwich that's being ordered. Call the function three times, using a different number of arguments each time."
   ]
  },
  {
   "cell_type": "code",
   "execution_count": null,
   "id": "1330299b",
   "metadata": {},
   "outputs": [],
   "source": [
    "def sandwich_picks(*on_sandwich):\n",
    "    print(f'the toppings on the sandwich will be {on_sandwich}')\n",
    "    \n",
    "sandwich_picks('lettuce')\n",
    "sandwich_picks('lettuce','pepper')\n",
    "sandwich_picks('lettuce','pepper','ham')"
   ]
  },
  {
   "cell_type": "markdown",
   "id": "e64a3e4e",
   "metadata": {},
   "source": [
    "**8-13. User Profile:** Start with a copy of the user_profile code above (or on page 149). Build a profile of yourself by calling `build_profile()`, using yourfirst and last names and three other key-value pairs that describe you."
   ]
  },
  {
   "cell_type": "code",
   "execution_count": null,
   "id": "4f7d0628",
   "metadata": {},
   "outputs": [],
   "source": [
    "def build_profile(first, last, **user_info):\n",
    "    user_info['first_name']=first\n",
    "    user_info['last_name']=last\n",
    "    return user_info\n",
    "\n",
    "user_profile = build_profile('christian','yoon',\n",
    "                            location='annapolis',field='robotics',gender='male')\n",
    "print(user_profile)"
   ]
  },
  {
   "cell_type": "markdown",
   "id": "83328341",
   "metadata": {},
   "source": [
    "**8-14. Cars:** Write a function that stores information about a car in a dictionary. The function should always receive a manufacturer and a model name. It should then accept an arbitrary number of keyword arguments. Call the function with the required information and two other name-value pairs, such as a color or an optional feature. Your function should work for a call like this one:\n",
    "\n",
    "    car = make_car('subaru', 'outback', color='blue', tow_package=True)\n",
    "    \n",
    "Print the dictionary that's returned to make sure all the information was stored correctly."
   ]
  },
  {
   "cell_type": "code",
   "execution_count": null,
   "id": "7c4a2042",
   "metadata": {},
   "outputs": [],
   "source": [
    "def build_car(manufacturer, model_name,**car_info):\n",
    "    car_info['manufacturer']=manufacturer\n",
    "    car_info['model_name']=model_name\n",
    "    return car_info\n",
    "\n",
    "car_profile = build_car('ford','mustang',\n",
    "                       color='red',seats=4)\n",
    "print(car_profile)"
   ]
  },
  {
   "cell_type": "markdown",
   "id": "65188e22",
   "metadata": {},
   "source": [
    "**8-15. Printing Models:** Move the functions below into a separate file called *printing_functions.py* Write an `import` statement at the top of the code below so the code uses the module's functions."
   ]
  },
  {
   "cell_type": "code",
   "execution_count": null,
   "id": "50baebc7",
   "metadata": {},
   "outputs": [],
   "source": [
    "#TODO: Move to printing_functions.py\n",
    "import printing_functions\n",
    "\n",
    "def print_models(unprinted_designs, completed_models):\n",
    "    \"\"\"\n",
    "    Simulate printing each design, until none are left.\n",
    "    Move each design to completed_models after printing.\n",
    "    \"\"\"\n",
    "    while unprinted_designs:\n",
    "        current_design = unprinted_designs.pop()\n",
    "        print(f\"Printing model: {current_design}\")\n",
    "        completed_models.append(current_design)\n",
    "        \n",
    "#TODO: Move to printing_functions.py       \n",
    "def show_completed_models(completed_models):\n",
    "    \"\"\"Show all the models that were printed.\"\"\"\n",
    "    print(\"\\nThe following models have been printed:\")\n",
    "    for completed_model in completed_models:\n",
    "        print(completed_model)\n",
    "        \n",
    "unprinted_designs = ['phone case', 'robot pendant', 'dodecahedron']\n",
    "completed_models = []\n",
    "\n",
    "print_models(unprinted_designs, completed_models)\n",
    "show_completed_models(completed_models)"
   ]
  },
  {
   "cell_type": "markdown",
   "id": "2d3a3422",
   "metadata": {},
   "source": [
    "**8-16.Imports:** Create a file called hello.py with a function that prints a greeting. Import the function using each of these approaches and verify it works by calling the function (you should see 6 copies of the greeting when you run the code)"
   ]
  },
  {
   "cell_type": "code",
   "execution_count": 19,
   "id": "6e08924d",
   "metadata": {},
   "outputs": [
    {
     "name": "stdout",
     "output_type": "stream",
     "text": [
      "\n",
      "Hello world!\n",
      "\n",
      "Hello world!\n",
      "\n",
      "Hello world!\n",
      "\n",
      "Hello world!\n",
      "\n",
      "Hello world!\n"
     ]
    }
   ],
   "source": [
    "import ew200_fcns\n",
    "ew200_fcns.say_hello()\n",
    "\n",
    "from ew200_fcns import say_hello\n",
    "say_hello()\n",
    "\n",
    "import ew200_fcns as fx\n",
    "fx.say_hello()\n",
    "\n",
    "from ew200_fcns import say_hello as greet\n",
    "greet()\n",
    "\n",
    "from ew200_fcns import *\n",
    "say_hello()\n"
   ]
  }
 ],
 "metadata": {
  "kernelspec": {
   "display_name": "Python 3 (ipykernel)",
   "language": "python",
   "name": "python3"
  },
  "language_info": {
   "codemirror_mode": {
    "name": "ipython",
    "version": 3
   },
   "file_extension": ".py",
   "mimetype": "text/x-python",
   "name": "python",
   "nbconvert_exporter": "python",
   "pygments_lexer": "ipython3",
   "version": "3.9.12"
  }
 },
 "nbformat": 4,
 "nbformat_minor": 5
}
